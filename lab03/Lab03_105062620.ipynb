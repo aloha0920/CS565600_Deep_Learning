{
 "cells": [
  {
   "cell_type": "code",
   "execution_count": 61,
   "metadata": {},
   "outputs": [
    {
     "name": "stdout",
     "output_type": "stream",
     "text": [
      "#Training data points: 398\n",
      "#Testing data points: 171\n",
      "Class labels: [0 1]\n",
      "Accuracy: 0.98\n",
      "Accuracy per feature: 0.03\n"
     ]
    }
   ],
   "source": [
    "from sklearn.tree import DecisionTreeClassifier\n",
    "from sklearn.model_selection import train_test_split\n",
    "from sklearn.datasets import load_breast_cancer\n",
    "import pandas as pd\n",
    "from sklearn.metrics import accuracy_score\n",
    "from sklearn.ensemble import RandomForestClassifier\n",
    "\n",
    "# load the breast_cancer dataset\n",
    "init_data = load_breast_cancer()\n",
    "(X, y) = load_breast_cancer(return_X_y=True)\n",
    "X = pd.DataFrame(data=X, columns=init_data['feature_names'])\n",
    "y = pd.DataFrame(data=y, columns=['Class label'])\n",
    "#z = y.values.ravel() \n",
    "\n",
    "# split X into training and testing sets\n",
    "X_train, X_test, y_train, y_test = train_test_split(X, y.values.ravel(), test_size=0.3, random_state=0)\n",
    "\n",
    "# Modified by MosQuito\n",
    "print('#Training data points: %d' % X_train.shape[0])\n",
    "print('#Testing data points: %d' % X_test.shape[0])\n",
    "print('Class labels:', np.unique(y))\n",
    "# End of modified\n",
    "\n",
    "# Train a RandomForestClassifier as model \n",
    "forest = RandomForestClassifier(criterion='entropy',\n",
    "                                n_estimators=200, \n",
    "                                random_state=1,\n",
    "                                n_jobs=2)\n",
    "forest.fit(X_train, y_train)\n",
    "\n",
    "y_pred = forest.predict(X_test)\n",
    "print('Accuracy: %.2f' % accuracy_score(y_test, y_pred))\n",
    "print('Accuracy per feature: %.2f' % (accuracy_score(y_test, y_pred)/len(X.columns)))"
   ]
  },
  {
   "cell_type": "code",
   "execution_count": 17,
   "metadata": {},
   "outputs": [
    {
     "name": "stdout",
     "output_type": "stream",
     "text": [
      " 1) worst concave points           0.141849\n",
      " 2) mean concave points            0.117697\n",
      " 3) worst radius                   0.110919\n",
      " 4) worst perimeter                0.105243\n",
      " 5) mean concavity                 0.077163\n",
      " 6) worst area                     0.073364\n",
      " 7) area error                     0.041760\n",
      " 8) mean perimeter                 0.036943\n",
      " 9) mean radius                    0.035625\n",
      "10) worst concavity                0.035205\n",
      "11) mean area                      0.032890\n",
      "12) worst texture                  0.022736\n",
      "13) mean texture                   0.018584\n",
      "14) worst compactness              0.016786\n",
      "15) radius error                   0.015408\n",
      "16) worst symmetry                 0.014770\n",
      "17) worst smoothness               0.014235\n",
      "18) mean compactness               0.010085\n",
      "19) perimeter error                0.010040\n",
      "20) worst fractal dimension        0.009015\n",
      "21) concave points error           0.008085\n",
      "22) compactness error              0.007420\n",
      "23) mean smoothness                0.006557\n",
      "24) fractal dimension error        0.006368\n",
      "25) symmetry error                 0.006357\n",
      "26) concavity error                0.006135\n",
      "27) texture error                  0.005854\n",
      "28) smoothness error               0.005100\n",
      "29) mean symmetry                  0.004598\n",
      "30) mean fractal dimension         0.003209\n"
     ]
    },
    {
     "data": {
      "image/png": "[encoded data removed]",
      "text/plain": [
       "<matplotlib.figure.Figure at 0x10d48c898>"
      ]
     },
     "metadata": {},
     "output_type": "display_data"
    }
   ],
   "source": [
    "# inline plotting instead of popping out\n",
    "%matplotlib inline\n",
    "\n",
    "import numpy as np\n",
    "import matplotlib.pyplot as plt\n",
    "\n",
    "importances = forest.feature_importances_\n",
    "# get sort indices in descending order\n",
    "indices = np.argsort(importances)[::-1]\n",
    "\n",
    "for f in range(X_train.shape[1]):\n",
    "    print(\"%2d) %-*s %f\" % (f + 1, 30, \n",
    "                            X.columns.values[indices[f]], \n",
    "                            importances[indices[f]]))\n",
    "\n",
    "plt.figure()\n",
    "plt.title('Feature Importances')\n",
    "plt.bar(range(X_train.shape[1]),\n",
    "        importances[indices],\n",
    "        align='center',\n",
    "        alpha=0.5)\n",
    "\n",
    "plt.xticks(range(X_train.shape[1]), \n",
    "           X.columns.values[indices], rotation=90)\n",
    "plt.xlim([-1, X_train.shape[1]])\n",
    "plt.tight_layout()\n",
    "plt.savefig('./output/fig-lab03-feature-importances.png', dpi=300)\n",
    "plt.show()"
   ]
  },
  {
   "cell_type": "code",
   "execution_count": 46,
   "metadata": {},
   "outputs": [
    {
     "name": "stdout",
     "output_type": "stream",
     "text": [
      "Zforest [[ 0.2654   0.1471 ]\n",
      " [ 0.186    0.07017]\n",
      " [ 0.243    0.1279 ]\n",
      " ..., \n",
      " [ 0.1418   0.05302]\n",
      " [ 0.265    0.152  ]\n",
      " [ 0.       0.     ]]\n",
      "Zforest 0.186\n"
     ]
    },
    {
     "data": {
      "image/png": "[encoded data removed]",
      "text/plain": [
       "<matplotlib.figure.Figure at 0x1115a4780>"
      ]
     },
     "metadata": {},
     "output_type": "display_data"
    }
   ],
   "source": [
    "import matplotlib.pyplot as plt\n",
    "\n",
    "Z_forest = X[['worst concave points', 'mean concave points']].values\n",
    "print('Zforest', Z_forest)\n",
    "\n",
    "colors = ['r', 'b', 'g']\n",
    "markers = ['s', 'x', 'o'] \n",
    "\n",
    "for l, c, m in zip(np.unique(y.values.ravel()), colors, markers):\n",
    "    plt.scatter(Z_forest[y.values.ravel()==l, 0], \n",
    "                Z_forest[y.values.ravel()==l, 1], \n",
    "                c=c, label=l, marker=m)\n",
    "\n",
    "plt.title('Z_forest')\n",
    "plt.xlabel('worst concave points')\n",
    "plt.ylabel('mean concave points')\n",
    "plt.legend(loc='lower right')\n",
    "plt.tight_layout()\n",
    "plt.savefig('./output/fig-lab03-forest-z.png', dpi=300)\n",
    "plt.show()"
   ]
  },
  {
   "cell_type": "code",
   "execution_count": 71,
   "metadata": {},
   "outputs": [
    {
     "name": "stdout",
     "output_type": "stream",
     "text": [
      " 1) worst concave points           0.141849\n",
      " 2) mean concave points            0.117697\n"
     ]
    }
   ],
   "source": [
    "from sklearn.feature_selection import SelectFromModel\n",
    "\n",
    "sfm = SelectFromModel(forest, threshold=0.115)\n",
    "# calls forest.fit()\n",
    "sfm.fit(X_train, y_train)\n",
    "Z_forest_alt = sfm.transform(X)\n",
    "\n",
    "#print('y_train', y_train)\n",
    "\n",
    "for f in range(Z_forest_alt.shape[1]): #mdf\n",
    "    print(\"%2d) %-*s %f\" % (f + 1, 30, \n",
    "                            X.columns.values[indices[f]], \n",
    "                            importances[indices[f]]))"
   ]
  },
  {
   "cell_type": "code",
   "execution_count": 56,
   "metadata": {},
   "outputs": [
    {
     "name": "stdout",
     "output_type": "stream",
     "text": [
      "Accuracy (tree_forest): 0.89\n"
     ]
    }
   ],
   "source": [
    "import numpy as np\n",
    "from sklearn.model_selection import train_test_split\n",
    "from sklearn.tree import DecisionTreeClassifier\n",
    "from sklearn.metrics import accuracy_score\n",
    "\n",
    "# train a decision tree based on Z_forest\n",
    "\n",
    "Z_forest_train, Z_forest_test, y_forest_train, y_forest_test = train_test_split(\n",
    "    Z_forest, y, test_size=0.3, random_state=0)\n",
    "\n",
    "tree_forest = DecisionTreeClassifier(criterion='entropy', \n",
    "                                     max_depth=3, \n",
    "                                     random_state=0)\n",
    "tree_forest.fit(Z_forest_train, y_forest_train)\n",
    "\n",
    "y_forest_pred = tree_forest.predict(Z_forest_test)\n",
    "print('Accuracy (tree_forest): %.2f' % accuracy_score(y_forest_test, y_forest_pred))"
   ]
  },
  {
   "cell_type": "code",
   "execution_count": 81,
   "metadata": {},
   "outputs": [
    {
     "name": "stderr",
     "output_type": "stream",
     "text": [
      "/Users/mosquito/anaconda/lib/python3.6/site-packages/ipykernel_launcher.py:11: DataConversionWarning: A column-vector y was passed when a 1d array was expected. Please change the shape of y to (n_samples,), for example using ravel().\n",
      "  # This is added back by InteractiveShellApp.init_path()\n"
     ]
    },
    {
     "name": "stdout",
     "output_type": "stream",
     "text": [
      "Accuracy (forest_forest): 0.89\n",
      "Accuracy per feature: 0.44\n"
     ]
    }
   ],
   "source": [
    "import numpy as np\n",
    "from sklearn.ensemble import RandomForestClassifier\n",
    "from sklearn.metrics import accuracy_score\n",
    "\n",
    "# train a random forest based on Z_forest\n",
    "\n",
    "forest_forest = RandomForestClassifier(criterion='entropy',\n",
    "                                n_estimators=200, \n",
    "                                random_state=1,\n",
    "                                n_jobs=2)\n",
    "forest_forest.fit(Z_forest_train, y_forest_train)\n",
    "\n",
    "y_forest_pred = forest_forest.predict(Z_forest_test)\n",
    "print('Accuracy (forest_forest): %.2f' % accuracy_score(y_forest_test, y_forest_pred))\n",
    "print('Accuracy per feature: %.2f' % (accuracy_score(y_forest_test, y_forest_pred)/(f + 1)))"
   ]
  },
  {
   "cell_type": "code",
   "execution_count": 58,
   "metadata": {
    "collapsed": true
   },
   "outputs": [],
   "source": []
  }
 ],
 "metadata": {
  "kernelspec": {
   "display_name": "Python 3",
   "language": "python",
   "name": "python3"
  },
  "language_info": {
   "codemirror_mode": {
    "name": "ipython",
    "version": 3
   },
   "file_extension": ".py",
   "mimetype": "text/x-python",
   "name": "python",
   "nbconvert_exporter": "python",
   "pygments_lexer": "ipython3",
   "version": "3.6.1"
  }
 },
 "nbformat": 4,
 "nbformat_minor": 2
}
